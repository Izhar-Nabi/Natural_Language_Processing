{
 "cells": [
  {
   "cell_type": "code",
   "execution_count": 1,
   "id": "58c29ab6-f5cb-44aa-9d3b-f227f66097cd",
   "metadata": {},
   "outputs": [],
   "source": [
    "import spacy"
   ]
  },
  {
   "cell_type": "code",
   "execution_count": 2,
   "id": "77aa3e77-5eaa-4131-9568-ee79f95fb19a",
   "metadata": {},
   "outputs": [],
   "source": [
    "nlp = spacy.load(\"en_core_web_sm\")"
   ]
  },
  {
   "cell_type": "code",
   "execution_count": 3,
   "id": "90ee869e-a246-4055-9eb3-eb58038a48ec",
   "metadata": {},
   "outputs": [],
   "source": [
    "doc = nlp(\"I want to drink a Fruit juice\")"
   ]
  },
  {
   "cell_type": "code",
   "execution_count": 4,
   "id": "0d2c0f48-ba86-43e4-ab14-779140a522a3",
   "metadata": {},
   "outputs": [
    {
     "name": "stdout",
     "output_type": "stream",
     "text": [
      "I PRON\n",
      "want VERB\n",
      "to PART\n",
      "drink VERB\n",
      "a DET\n",
      "Fruit NOUN\n",
      "juice NOUN\n"
     ]
    }
   ],
   "source": [
    "for token in doc:\n",
    "    print(token.text,token.pos_)"
   ]
  },
  {
   "cell_type": "code",
   "execution_count": 7,
   "id": "1d1668d9-67c1-4a0d-acf6-e9f0097563c3",
   "metadata": {},
   "outputs": [
    {
     "name": "stdout",
     "output_type": "stream",
     "text": [
      "I PRON nsubj want\n",
      "want VERB ROOT want\n",
      "to PART aux drink\n",
      "drink VERB xcomp want\n",
      "a DET det juice\n",
      "Fruit NOUN compound juice\n",
      "juice NOUN dobj drink\n"
     ]
    }
   ],
   "source": [
    "# how words are related to each other for example whether a subject is verb or object.\n",
    "# predicting syntactic dependencies\n",
    "for token in doc:\n",
    "    print(token.text,token.pos_,token.dep_,token.head.text) # dep_ (dependencies) used for predicting dependency labels and head.text return the syntatic head tokens"
   ]
  },
  {
   "cell_type": "code",
   "execution_count": 10,
   "id": "99d7d320-1291-4045-8940-bb4579cdeff1",
   "metadata": {},
   "outputs": [
    {
     "name": "stdout",
     "output_type": "stream",
     "text": [
      "Fruit ORG\n"
     ]
    }
   ],
   "source": [
    "# 3- name entity prediction\n",
    "for tokens in doc.ents:\n",
    "    print(tokens.text,tokens.label_)"
   ]
  },
  {
   "cell_type": "code",
   "execution_count": 11,
   "id": "b5eccbda-c61a-4b42-b5dd-ca3bf29a9e85",
   "metadata": {},
   "outputs": [
    {
     "data": {
      "text/plain": [
       "'Companies, agencies, institutions, etc.'"
      ]
     },
     "execution_count": 11,
     "metadata": {},
     "output_type": "execute_result"
    }
   ],
   "source": [
    "# for explain the NER\n",
    "# use spacy.explain('anything')\n",
    "spacy.explain(\"ORG\")"
   ]
  },
  {
   "cell_type": "code",
   "execution_count": 14,
   "id": "b2d72918-9725-4780-8ac8-e7afa639948e",
   "metadata": {},
   "outputs": [],
   "source": [
    "spacy.explain(\"money\")"
   ]
  },
  {
   "cell_type": "code",
   "execution_count": 15,
   "id": "490d706c-d0ea-46d1-874e-b8006c47ec86",
   "metadata": {},
   "outputs": [
    {
     "name": "stdout",
     "output_type": "stream",
     "text": [
      "It          PRON      nsubj     \n",
      "’s          AUX       ccomp     \n",
      "official    NOUN      acomp     \n",
      ":           PUNCT     punct     \n",
      "Apple       PROPN     nsubj     \n",
      "is          AUX       ROOT      \n",
      "the         DET       det       \n",
      "first       ADJ       amod      \n",
      "U.S.        PROPN     nmod      \n",
      "public      ADJ       amod      \n",
      "company     NOUN      attr      \n",
      "to          PART      aux       \n",
      "reach       VERB      relcl     \n",
      "a           DET       det       \n",
      "$           SYM       quantmod  \n",
      "1           NUM       compound  \n",
      "trillion    NUM       nummod    \n",
      "market      NOUN      compound  \n",
      "value       NOUN      dobj      \n"
     ]
    }
   ],
   "source": [
    "# Task\n",
    "\n",
    "text = \"It’s official: Apple is the first U.S. public company to reach a $1 trillion market value\"\n",
    "\n",
    "# Process the text\n",
    "doc = nlp(text)\n",
    "\n",
    "for token in doc:\n",
    "    # Get the token text, part-of-speech tag and dependency label\n",
    "    token_text = token.text\n",
    "    token_pos = token.pos_\n",
    "    token_dep = token.dep_\n",
    "    # This is for formatting only\n",
    "    print('{:<12}{:<10}{:<10}'.format(token_text, token_pos, token_dep))"
   ]
  },
  {
   "cell_type": "code",
   "execution_count": 16,
   "id": "8e5d81a8-3f75-45e7-b593-4372e0cb9cf3",
   "metadata": {},
   "outputs": [
    {
     "name": "stdout",
     "output_type": "stream",
     "text": [
      "Apple ORG\n",
      "first ORDINAL\n",
      "U.S. GPE\n",
      "$1 trillion MONEY\n"
     ]
    }
   ],
   "source": [
    "text = \"It’s official: Apple is the first U.S. public company to reach a $1 trillion market value\"\n",
    "\n",
    "# Process the text\n",
    "doc = nlp(text)\n",
    "\n",
    "# Iterate over the predicted entities\n",
    "for ent in doc.ents:\n",
    "    # print the entity text and its label\n",
    "    print(ent.text, ent.label_)"
   ]
  },
  {
   "cell_type": "code",
   "execution_count": 17,
   "id": "003ba0c2-8443-4ae8-a78e-82150c406a85",
   "metadata": {},
   "outputs": [
    {
     "name": "stdout",
     "output_type": "stream",
     "text": [
      "Apple ORG\n",
      "Missing entity: iPhone X\n"
     ]
    }
   ],
   "source": [
    "text = \"New iPhone X release date leaked as Apple reveals pre-orders by mistake\"\n",
    "\n",
    "# Process the text\n",
    "doc = nlp(text)\n",
    "\n",
    "# Iterate over the entities\n",
    "for ent in doc.ents:\n",
    "    # print the entity text and label\n",
    "    print(ent.text, ent.label_)\n",
    "\n",
    "# Get the span for \"iPhone X\"\n",
    "iphone_x = doc[1:3]\n",
    "\n",
    "# Print the span text\n",
    "print('Missing entity:', iphone_x.text)"
   ]
  },
  {
   "cell_type": "code",
   "execution_count": 18,
   "id": "94d76c0b-a57d-41f9-8c7f-585c1ac9776b",
   "metadata": {},
   "outputs": [],
   "source": [
    "######################## match based rule ######################\n",
    "\n",
    "# Import the Matcher\n",
    "from spacy.matcher import Matcher\n",
    "\n",
    "# Initialize the Matcher with the shared vocabulary\n",
    "matcher = Matcher(nlp.vocab)"
   ]
  },
  {
   "cell_type": "code",
   "execution_count": null,
   "id": "bdae6ce4-5371-4eae-84f6-193eec5dad16",
   "metadata": {},
   "outputs": [],
   "source": [
    "# Import the Matcher and initialize it with the shared vocabulary\n",
    "from spacy.matcher import Matcher\n",
    "matcher = Matcher(nlp.vocab)\n",
    "\n",
    "# Create a pattern matching two tokens: \"iPhone\" and \"X\"\n",
    "pattern = [{'TEXT': 'iPhone'}, {'TEXT': 'X'}]\n",
    "\n",
    "# Add the pattern to the matcher\n",
    "matcher.add('IPHONE_X_PATTERN', None, pattern)\n",
    "\n",
    "# Use the matcher on the doc\n",
    "matches = matcher(doc)\n",
    "print('Matches:', [doc[start:end].text for match_id, start, end in matches])"
   ]
  },
  {
   "cell_type": "code",
   "execution_count": null,
   "id": "3d015257-b0db-477e-847c-9159bbc6f9ea",
   "metadata": {},
   "outputs": [],
   "source": []
  }
 ],
 "metadata": {
  "kernelspec": {
   "display_name": "Python 3 (ipykernel)",
   "language": "python",
   "name": "python3"
  },
  "language_info": {
   "codemirror_mode": {
    "name": "ipython",
    "version": 3
   },
   "file_extension": ".py",
   "mimetype": "text/x-python",
   "name": "python",
   "nbconvert_exporter": "python",
   "pygments_lexer": "ipython3",
   "version": "3.10.4"
  }
 },
 "nbformat": 4,
 "nbformat_minor": 5
}
