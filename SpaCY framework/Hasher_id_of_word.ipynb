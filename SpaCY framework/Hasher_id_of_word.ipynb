{
 "cells": [
  {
   "cell_type": "code",
   "execution_count": 1,
   "id": "68109cc8-2984-454e-8a55-00637e512a60",
   "metadata": {},
   "outputs": [],
   "source": [
    "import spacy"
   ]
  },
  {
   "cell_type": "code",
   "execution_count": 2,
   "id": "d020f404-aa5e-4e54-bee9-9bcc02f04265",
   "metadata": {},
   "outputs": [],
   "source": [
    "nlp = spacy.load(\"en_core_web_sm\")"
   ]
  },
  {
   "cell_type": "code",
   "execution_count": 5,
   "id": "e1d99c4c-2fbf-4c64-a40d-bd496cb9b8b3",
   "metadata": {},
   "outputs": [
    {
     "data": {
      "text/plain": [
       "5439657043933447811"
      ]
     },
     "execution_count": 5,
     "metadata": {},
     "output_type": "execute_result"
    }
   ],
   "source": [
    "cat_hash = nlp.vocab.strings[\"cat\"]\n",
    "cat_hash"
   ]
  },
  {
   "cell_type": "code",
   "execution_count": 6,
   "id": "c01d3ffe-8935-4bf6-9019-6a99a293c489",
   "metadata": {},
   "outputs": [],
   "source": [
    "getting_str = nlp.vocab.strings[cat_hash]"
   ]
  },
  {
   "cell_type": "code",
   "execution_count": 7,
   "id": "80e2f096-45ef-4c95-bcfe-dc6f5f9d23fd",
   "metadata": {},
   "outputs": [
    {
     "data": {
      "text/plain": [
       "'cat'"
      ]
     },
     "execution_count": 7,
     "metadata": {},
     "output_type": "execute_result"
    }
   ],
   "source": [
    "getting_str"
   ]
  },
  {
   "cell_type": "code",
   "execution_count": null,
   "id": "8dcaf0d4-cd07-4696-9efc-cd4b20fa7ec5",
   "metadata": {},
   "outputs": [],
   "source": []
  }
 ],
 "metadata": {
  "kernelspec": {
   "display_name": "Python 3 (ipykernel)",
   "language": "python",
   "name": "python3"
  },
  "language_info": {
   "codemirror_mode": {
    "name": "ipython",
    "version": 3
   },
   "file_extension": ".py",
   "mimetype": "text/x-python",
   "name": "python",
   "nbconvert_exporter": "python",
   "pygments_lexer": "ipython3",
   "version": "3.10.4"
  }
 },
 "nbformat": 4,
 "nbformat_minor": 5
}
