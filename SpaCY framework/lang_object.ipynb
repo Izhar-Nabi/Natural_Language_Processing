{
 "cells": [
  {
   "cell_type": "code",
   "execution_count": 1,
   "id": "e89a564b-d422-4b22-8c2c-f80aa2dca50c",
   "metadata": {},
   "outputs": [],
   "source": [
    "import spacy"
   ]
  },
  {
   "cell_type": "code",
   "execution_count": 2,
   "id": "d7e81dc8-c776-4f9d-b8a2-10d9a7cc9a1b",
   "metadata": {},
   "outputs": [],
   "source": [
    "from spacy.lang.en import English"
   ]
  },
  {
   "cell_type": "code",
   "execution_count": 3,
   "id": "70166e3e-2c8a-4d9c-ab5a-95e40ddb7c55",
   "metadata": {},
   "outputs": [],
   "source": [
    "nlp = English()"
   ]
  },
  {
   "cell_type": "code",
   "execution_count": 4,
   "id": "dc2b0dfb-1b35-40a2-ae7f-c707d1fb772b",
   "metadata": {},
   "outputs": [],
   "source": [
    "text = \"Hello there i am working in python\""
   ]
  },
  {
   "cell_type": "code",
   "execution_count": 5,
   "id": "f343c358-7fb7-4691-b88f-6e57886293a8",
   "metadata": {},
   "outputs": [],
   "source": [
    "doc = nlp(text)"
   ]
  },
  {
   "cell_type": "code",
   "execution_count": 6,
   "id": "7aa85293-8106-45d6-ad66-3674168b4465",
   "metadata": {},
   "outputs": [
    {
     "data": {
      "text/plain": [
       "Hello there i am working in python"
      ]
     },
     "execution_count": 6,
     "metadata": {},
     "output_type": "execute_result"
    }
   ],
   "source": [
    "doc"
   ]
  },
  {
   "cell_type": "code",
   "execution_count": 7,
   "id": "743068e3-6aba-4811-aa95-006ef8af595a",
   "metadata": {},
   "outputs": [
    {
     "data": {
      "text/plain": [
       "'Hello there i am working in python'"
      ]
     },
     "execution_count": 7,
     "metadata": {},
     "output_type": "execute_result"
    }
   ],
   "source": [
    "doc.text"
   ]
  },
  {
   "cell_type": "code",
   "execution_count": 20,
   "id": "0839e22c-639f-418a-8b95-74e3398f6ee6",
   "metadata": {},
   "outputs": [
    {
     "data": {
      "text/plain": [
       "array([], dtype=float32)"
      ]
     },
     "execution_count": 20,
     "metadata": {},
     "output_type": "execute_result"
    }
   ],
   "source": [
    "doc.vector"
   ]
  },
  {
   "cell_type": "code",
   "execution_count": 21,
   "id": "d570ef36-4c58-46b5-8eac-172f9c8a0098",
   "metadata": {},
   "outputs": [
    {
     "data": {
      "text/plain": [
       "Hello there"
      ]
     },
     "execution_count": 21,
     "metadata": {},
     "output_type": "execute_result"
    }
   ],
   "source": [
    "# span\n",
    "doc[0:2]"
   ]
  },
  {
   "cell_type": "code",
   "execution_count": 24,
   "id": "1f0c50c3-66b8-4af9-a6a1-1e16179a3bc2",
   "metadata": {},
   "outputs": [
    {
     "data": {
      "text/plain": [
       "Hello there i am working in python"
      ]
     },
     "execution_count": 24,
     "metadata": {},
     "output_type": "execute_result"
    }
   ],
   "source": [
    "doc.doc"
   ]
  },
  {
   "cell_type": "code",
   "execution_count": 28,
   "id": "c369f272-2557-446f-9d9b-b6847f1bc357",
   "metadata": {},
   "outputs": [
    {
     "data": {
      "text/plain": [
       "<generator at 0x29d7c214400>"
      ]
     },
     "execution_count": 28,
     "metadata": {},
     "output_type": "execute_result"
    }
   ],
   "source": [
    "doc.noun_chunks"
   ]
  },
  {
   "cell_type": "code",
   "execution_count": 29,
   "id": "a9967012-f59c-405c-a96b-4f500992277f",
   "metadata": {},
   "outputs": [
    {
     "data": {
      "text/plain": [
       "'Hello there i am working in python'"
      ]
     },
     "execution_count": 29,
     "metadata": {},
     "output_type": "execute_result"
    }
   ],
   "source": [
    "doc.text_with_ws"
   ]
  },
  {
   "cell_type": "code",
   "execution_count": 30,
   "id": "9acbbe67-99db-474c-bec2-afa38f1a7de4",
   "metadata": {},
   "outputs": [
    {
     "data": {
      "text/plain": [
       "False"
      ]
     },
     "execution_count": 30,
     "metadata": {},
     "output_type": "execute_result"
    }
   ],
   "source": [
    "doc.has_vector"
   ]
  },
  {
   "cell_type": "code",
   "execution_count": 31,
   "id": "6c8ea370-5b83-44f3-95bb-f9b5d32a4ea6",
   "metadata": {},
   "outputs": [
    {
     "data": {
      "text/plain": [
       "array([], dtype=float32)"
      ]
     },
     "execution_count": 31,
     "metadata": {},
     "output_type": "execute_result"
    }
   ],
   "source": [
    "doc.tensor"
   ]
  },
  {
   "cell_type": "code",
   "execution_count": 38,
   "id": "356b6aa7-ab19-4dbc-9307-1ea96c200cb1",
   "metadata": {},
   "outputs": [],
   "source": [
    "from spacy.tokens import Doc"
   ]
  },
  {
   "cell_type": "code",
   "execution_count": 40,
   "id": "806f0253-6e71-4df8-80ec-991b9993b5ba",
   "metadata": {},
   "outputs": [],
   "source": [
    "DOC = Doc(nlp.vocab)"
   ]
  },
  {
   "cell_type": "code",
   "execution_count": 42,
   "id": "2720a26f-6447-4390-a04a-38c3eb0317fc",
   "metadata": {},
   "outputs": [
    {
     "data": {
      "text/plain": [
       "\u001b[1;31mType:\u001b[0m           Doc\n",
       "\u001b[1;31mString form:\u001b[0m    \n",
       "\u001b[1;31mLength:\u001b[0m         0\n",
       "\u001b[1;31mFile:\u001b[0m           c:\\users\\izhar\\appdata\\local\\programs\\python\\python310\\lib\\site-packages\\spacy\\tokens\\doc.cp310-win_amd64.pyd\n",
       "\u001b[1;31mDocstring:\u001b[0m     \n",
       "Doc(Vocab vocab, words=None, spaces=None, user_data=None, *, tags=None, pos=None, morphs=None, lemmas=None, heads=None, deps=None, sent_starts=None, ents=None)\n",
       "A sequence of Token objects. Access sentences and named entities, export\n",
       "    annotations to numpy arrays, losslessly serialize to compressed binary\n",
       "    strings. The `Doc` object holds an array of `TokenC` structs. The\n",
       "    Python-level `Token` and `Span` objects are views of this array, i.e.\n",
       "    they don't own the data themselves.\n",
       "\n",
       "    EXAMPLE:\n",
       "        Construction 1\n",
       "        >>> doc = nlp(u'Some text')\n",
       "\n",
       "        Construction 2\n",
       "        >>> from spacy.tokens import Doc\n",
       "        >>> doc = Doc(nlp.vocab, words=[\"hello\", \"world\", \"!\"], spaces=[True, False, False])\n",
       "\n",
       "    DOCS: https://spacy.io/api/doc\n",
       "    \n",
       "\u001b[1;31mInit docstring:\u001b[0m\n",
       "Create a Doc object.\n",
       "\n",
       "vocab (Vocab): A vocabulary object, which must match any models you\n",
       "    want to use (e.g. tokenizer, parser, entity recognizer).\n",
       "words (Optional[List[Union[str, int]]]): A list of unicode strings or\n",
       "    hash values to add to the document as words. If `None`, defaults to\n",
       "    empty list.\n",
       "spaces (Optional[List[bool]]): A list of boolean values, of the same\n",
       "    length as `words`. `True` means that the word is followed by a space,\n",
       "    `False` means it is not. If `None`, defaults to `[True]*len(words)`\n",
       "user_data (dict or None): Optional extra data to attach to the Doc.\n",
       "tags (Optional[List[str]]): A list of unicode strings, of the same\n",
       "    length as words, to assign as token.tag. Defaults to None.\n",
       "pos (Optional[List[str]]): A list of unicode strings, of the same\n",
       "    length as words, to assign as token.pos. Defaults to None.\n",
       "morphs (Optional[List[str]]): A list of unicode strings, of the same\n",
       "    length as words, to assign as token.morph. Defaults to None.\n",
       "lemmas (Optional[List[str]]): A list of unicode strings, of the same\n",
       "    length as words, to assign as token.lemma. Defaults to None.\n",
       "heads (Optional[List[int]]): A list of values, of the same length as\n",
       "    words, to assign as heads. Head indices are the position of the\n",
       "    head in the doc. Defaults to None.\n",
       "deps (Optional[List[str]]): A list of unicode strings, of the same\n",
       "    length as words, to assign as token.dep. Defaults to None.\n",
       "sent_starts (Optional[List[Union[bool, int, None]]]): A list of values, \n",
       "    of the same length as words, to assign as token.is_sent_start. Will \n",
       "    be overridden by heads if heads is provided. Defaults to None.\n",
       "ents (Optional[List[str]]): A list of unicode strings, of the same\n",
       "    length as words, as IOB tags to assign as token.ent_iob and\n",
       "    token.ent_type. Defaults to None.\n",
       "\n",
       "DOCS: https://spacy.io/api/doc#init"
      ]
     },
     "metadata": {},
     "output_type": "display_data"
    }
   ],
   "source": [
    "DOC?"
   ]
  },
  {
   "cell_type": "code",
   "execution_count": null,
   "id": "ca4151dc-4779-46ce-a22a-fdbb657a7e4b",
   "metadata": {},
   "outputs": [],
   "source": []
  }
 ],
 "metadata": {
  "kernelspec": {
   "display_name": "Python 3 (ipykernel)",
   "language": "python",
   "name": "python3"
  },
  "language_info": {
   "codemirror_mode": {
    "name": "ipython",
    "version": 3
   },
   "file_extension": ".py",
   "mimetype": "text/x-python",
   "name": "python",
   "nbconvert_exporter": "python",
   "pygments_lexer": "ipython3",
   "version": "3.10.4"
  }
 },
 "nbformat": 4,
 "nbformat_minor": 5
}
