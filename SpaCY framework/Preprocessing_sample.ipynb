{
 "cells": [
  {
   "cell_type": "code",
   "execution_count": 17,
   "id": "ca7211f5-87f6-401f-907c-68584c6f1d11",
   "metadata": {},
   "outputs": [
    {
     "name": "stdout",
     "output_type": "stream",
     "text": [
      "[(0, 11, 'BUILDING')]\n",
      "Tokyo Tower is 333m tall.\n",
      "BUILDING\n",
      "[Tokyo Tower]\n"
     ]
    }
   ],
   "source": [
    "# PREPROCESS.PY\n",
    "import spacy\n",
    "from spacy.tokens import DocBin\n",
    "\n",
    "nlp = spacy.blank(\"en\")\n",
    "training_data = [\n",
    "  (\"Tokyo Tower is 333m tall.\", [(0, 11, \"BUILDING\")]),\n",
    "]\n",
    "# the DocBin will store the example documents\n",
    "db = DocBin()\n",
    "for text, annotations in training_data:\n",
    "    doc = nlp(text)\n",
    "    print(annotations)\n",
    "    print(text)\n",
    "    ents = []\n",
    "    for start, end, label in annotations:\n",
    "        print(label)\n",
    "        span = doc.char_span(start, end, label=label)\n",
    "        ents.append(span)\n",
    "    doc.ents = ents\n",
    "    print(ents)\n",
    "    db.add(doc)\n",
    "# db.to_disk(\"./train.spacy\")"
   ]
  },
  {
   "cell_type": "code",
   "execution_count": 11,
   "id": "b89bad58-66da-4df8-8394-19cd0c340774",
   "metadata": {},
   "outputs": [
    {
     "data": {
      "text/plain": [
       "Tokyo Tower"
      ]
     },
     "execution_count": 11,
     "metadata": {},
     "output_type": "execute_result"
    }
   ],
   "source": [
    "span"
   ]
  },
  {
   "cell_type": "code",
   "execution_count": 12,
   "id": "99b5360e-61db-4cc3-8816-c48536c879e1",
   "metadata": {},
   "outputs": [
    {
     "data": {
      "text/plain": [
       "Tokyo Tower is 333m tall."
      ]
     },
     "execution_count": 12,
     "metadata": {},
     "output_type": "execute_result"
    }
   ],
   "source": [
    "doc"
   ]
  },
  {
   "cell_type": "code",
   "execution_count": 8,
   "id": "181070ec-b2f4-4646-848c-5071f4bba2a2",
   "metadata": {},
   "outputs": [],
   "source": [
    "import numpy as np"
   ]
  },
  {
   "cell_type": "code",
   "execution_count": 10,
   "id": "93a09571-ff54-4a69-becc-32db64a21ee8",
   "metadata": {},
   "outputs": [
    {
     "data": {
      "text/plain": [
       "array([ 1689865463182427203, 12373963293215926605,                    0,\n",
       "                          0,                    0,                    0,\n",
       "                          3,   238494761140857840,                    0,\n",
       "                          1,                    0,                    0,\n",
       "                          0], dtype=uint64)"
      ]
     },
     "execution_count": 10,
     "metadata": {},
     "output_type": "execute_result"
    }
   ],
   "source": [
    "db.tokens[0][0]"
   ]
  },
  {
   "cell_type": "code",
   "execution_count": 9,
   "id": "c75315c0-bb6c-4d30-8e07-a3a1b676feed",
   "metadata": {},
   "outputs": [
    {
     "data": {
      "text/plain": [
       "1"
      ]
     },
     "execution_count": 9,
     "metadata": {},
     "output_type": "execute_result"
    }
   ],
   "source": [
    "np.argmax(db.tokens[0][0])"
   ]
  },
  {
   "cell_type": "code",
   "execution_count": null,
   "id": "f9317e20-a606-4787-9d5a-65bbf2c96204",
   "metadata": {},
   "outputs": [],
   "source": []
  }
 ],
 "metadata": {
  "kernelspec": {
   "display_name": "Python 3 (ipykernel)",
   "language": "python",
   "name": "python3"
  },
  "language_info": {
   "codemirror_mode": {
    "name": "ipython",
    "version": 3
   },
   "file_extension": ".py",
   "mimetype": "text/x-python",
   "name": "python",
   "nbconvert_exporter": "python",
   "pygments_lexer": "ipython3",
   "version": "3.10.4"
  }
 },
 "nbformat": 4,
 "nbformat_minor": 5
}
